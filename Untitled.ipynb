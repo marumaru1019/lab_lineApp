{
 "cells": [
  {
   "cell_type": "code",
   "execution_count": 1,
   "metadata": {},
   "outputs": [],
   "source": [
    "import pandas as pd"
   ]
  },
  {
   "cell_type": "code",
   "execution_count": 18,
   "metadata": {},
   "outputs": [],
   "source": [
    "df = pd.read_csv(\"kenken.csv\").iloc[:-1,1:]"
   ]
  },
  {
   "cell_type": "code",
   "execution_count": 19,
   "metadata": {},
   "outputs": [
    {
     "data": {
      "text/html": [
       "<div>\n",
       "<style scoped>\n",
       "    .dataframe tbody tr th:only-of-type {\n",
       "        vertical-align: middle;\n",
       "    }\n",
       "\n",
       "    .dataframe tbody tr th {\n",
       "        vertical-align: top;\n",
       "    }\n",
       "\n",
       "    .dataframe thead th {\n",
       "        text-align: right;\n",
       "    }\n",
       "</style>\n",
       "<table border=\"1\" class=\"dataframe\">\n",
       "  <thead>\n",
       "    <tr style=\"text-align: right;\">\n",
       "      <th></th>\n",
       "      <th>ユーザーID</th>\n",
       "      <th>登録日</th>\n",
       "      <th>時間</th>\n",
       "      <th>名前</th>\n",
       "      <th>希望日時</th>\n",
       "      <th>メールアドレス</th>\n",
       "    </tr>\n",
       "  </thead>\n",
       "  <tbody>\n",
       "    <tr>\n",
       "      <th>0</th>\n",
       "      <td>sampleid</td>\n",
       "      <td>2021/01/02</td>\n",
       "      <td>15:02</td>\n",
       "      <td>笛木</td>\n",
       "      <td>12/21/15:00</td>\n",
       "      <td>fueki@kkk.com</td>\n",
       "    </tr>\n",
       "    <tr>\n",
       "      <th>1</th>\n",
       "      <td>Uff586a352dbcf9bfe22e84de236cbce5</td>\n",
       "      <td>2021/01/02</td>\n",
       "      <td>16:26</td>\n",
       "      <td>山倉拓也</td>\n",
       "      <td>1/11 9:00~9:30</td>\n",
       "      <td>NaN</td>\n",
       "    </tr>\n",
       "    <tr>\n",
       "      <th>2</th>\n",
       "      <td>Ua667768dea167150262a29bb17fc803d</td>\n",
       "      <td>2021/01/16</td>\n",
       "      <td>15:15</td>\n",
       "      <td>せらゆいな🥦</td>\n",
       "      <td>1/11 9:00~9:30</td>\n",
       "      <td>NaN</td>\n",
       "    </tr>\n",
       "    <tr>\n",
       "      <th>3</th>\n",
       "      <td>Ufe08e167c74c7f0bad7fbbde69bac840</td>\n",
       "      <td>2021/02/28</td>\n",
       "      <td>22:08</td>\n",
       "      <td>大島遼祐</td>\n",
       "      <td>1/11 9:00~9:30</td>\n",
       "      <td>NaN</td>\n",
       "    </tr>\n",
       "  </tbody>\n",
       "</table>\n",
       "</div>"
      ],
      "text/plain": [
       "                              ユーザーID         登録日     時間      名前  \\\n",
       "0                           sampleid  2021/01/02  15:02      笛木   \n",
       "1  Uff586a352dbcf9bfe22e84de236cbce5  2021/01/02  16:26    山倉拓也   \n",
       "2  Ua667768dea167150262a29bb17fc803d  2021/01/16  15:15  せらゆいな🥦   \n",
       "3  Ufe08e167c74c7f0bad7fbbde69bac840  2021/02/28  22:08    大島遼祐   \n",
       "\n",
       "             希望日時        メールアドレス  \n",
       "0     12/21/15:00  fueki@kkk.com  \n",
       "1  1/11 9:00~9:30            NaN  \n",
       "2  1/11 9:00~9:30            NaN  \n",
       "3  1/11 9:00~9:30            NaN  "
      ]
     },
     "execution_count": 19,
     "metadata": {},
     "output_type": "execute_result"
    }
   ],
   "source": [
    "df"
   ]
  },
  {
   "cell_type": "code",
   "execution_count": 20,
   "metadata": {},
   "outputs": [],
   "source": [
    "df.to_csv(\"kenken.csv\")"
   ]
  },
  {
   "cell_type": "code",
   "execution_count": null,
   "metadata": {},
   "outputs": [],
   "source": []
  }
 ],
 "metadata": {
  "kernelspec": {
   "display_name": "Python 3.7.2 64-bit",
   "language": "python",
   "name": "python37264bitc6820bcd529848d1aef0990277592879"
  },
  "language_info": {
   "codemirror_mode": {
    "name": "ipython",
    "version": 3
   },
   "file_extension": ".py",
   "mimetype": "text/x-python",
   "name": "python",
   "nbconvert_exporter": "python",
   "pygments_lexer": "ipython3",
   "version": "3.7.2"
  }
 },
 "nbformat": 4,
 "nbformat_minor": 4
}
